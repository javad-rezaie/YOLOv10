{
 "cells": [
  {
   "cell_type": "code",
   "execution_count": 1,
   "metadata": {},
   "outputs": [],
   "source": [
    "import json\n",
    "from tqdm import tqdm"
   ]
  },
  {
   "cell_type": "markdown",
   "metadata": {},
   "source": [
    "## Download data:\n",
    "### Download and unzip datasets from https://github.com/nightrome/cocostuff10k?tab=readme-ov-file to the current folder"
   ]
  },
  {
   "cell_type": "code",
   "execution_count": 8,
   "metadata": {},
   "outputs": [],
   "source": [
    "with open(\"/data/cocostuff-10k-v1.1.json\", \"rb\") as f:\n",
    "    data = json.load(f)"
   ]
  },
  {
   "cell_type": "code",
   "execution_count": 9,
   "metadata": {},
   "outputs": [],
   "source": [
    "with open(\"/data/imageLists/train.txt\", \"r\") as f:\n",
    "    train_images = f.readlines()\n",
    "train_images = [img.strip() for img in train_images]\n",
    "with open(\"/data/imageLists/test.txt\", \"r\") as f:\n",
    "    test_images = f.readlines()\n",
    "test_images = [img.strip() for img in test_images]"
   ]
  },
  {
   "cell_type": "code",
   "execution_count": 10,
   "metadata": {},
   "outputs": [
    {
     "data": {
      "text/plain": [
       "dict_keys(['info', 'images', 'licenses', 'categories', 'annotations'])"
      ]
     },
     "execution_count": 10,
     "metadata": {},
     "output_type": "execute_result"
    }
   ],
   "source": [
    "data.keys()"
   ]
  },
  {
   "cell_type": "code",
   "execution_count": 11,
   "metadata": {},
   "outputs": [
    {
     "data": {
      "text/plain": [
       "{'coco_url': 'http://mscoco.org/images/57870',\n",
       " 'date_captured': '2013-11-14 16:28:13',\n",
       " 'file_name': 'COCO_train2014_000000057870.jpg',\n",
       " 'flickr_url': 'http://farm4.staticflickr.com/3153/2970773875_164f0c0b83_z.jpg',\n",
       " 'height': 480,\n",
       " 'id': 57870,\n",
       " 'license': 5,\n",
       " 'width': 640}"
      ]
     },
     "execution_count": 11,
     "metadata": {},
     "output_type": "execute_result"
    }
   ],
   "source": [
    "data[\"images\"][0]"
   ]
  },
  {
   "cell_type": "code",
   "execution_count": 12,
   "metadata": {},
   "outputs": [
    {
     "data": {
      "text/plain": [
       "dict_keys(['area', 'bbox', 'category_id', 'id', 'image_id', 'iscrowd', 'segmentation'])"
      ]
     },
     "execution_count": 12,
     "metadata": {},
     "output_type": "execute_result"
    }
   ],
   "source": [
    "data[\"annotations\"][0].keys()"
   ]
  },
  {
   "cell_type": "code",
   "execution_count": 13,
   "metadata": {},
   "outputs": [
    {
     "name": "stderr",
     "output_type": "stream",
     "text": [
      "100%|████████████████████████████████████████████████████████████████████████████████████████████████████████████████████████████████████████████████████████████████████████████████████████████████████████████████| 10000/10000 [02:56<00:00, 56.75it/s]\n"
     ]
    }
   ],
   "source": [
    "train_coco = {}\n",
    "train_coco[\"images\"] = []\n",
    "train_coco[\"annotations\"] = []\n",
    "train_coco[\"categories\"] = data[\"categories\"]\n",
    "test_coco = {}\n",
    "test_coco[\"images\"] = []\n",
    "test_coco[\"annotations\"] = []\n",
    "test_coco[\"categories\"] = data[\"categories\"]\n",
    "for img in tqdm(data[\"images\"]):\n",
    "    if img[\"file_name\"].split(\".\")[0] in train_images:\n",
    "        train_coco[\"images\"].append(img)\n",
    "        img_id = img[\"id\"]\n",
    "        for ann in data[\"annotations\"]:\n",
    "            if ann[\"image_id\"] == img_id:\n",
    "                if ann[\"iscrowd\"] == 1:\n",
    "                    continue\n",
    "                if len(ann[\"bbox\"]) == 1:\n",
    "                    ann[\"bbox\"] = ann[\"bbox\"][0]\n",
    "                train_coco[\"annotations\"].append(ann)\n",
    "    elif img[\"file_name\"].split(\".\")[0] in test_images:\n",
    "        test_coco[\"images\"].append(img)\n",
    "        img_id = img[\"id\"]\n",
    "        for ann in data[\"annotations\"]:\n",
    "            if ann[\"image_id\"] == img_id:\n",
    "                if ann[\"iscrowd\"] == 1:\n",
    "                    continue\n",
    "                if len(ann[\"bbox\"]) == 1:\n",
    "                    ann[\"bbox\"] = ann[\"bbox\"][0]\n",
    "                test_coco[\"annotations\"].append(ann)\n",
    "    else:\n",
    "        print(img)"
   ]
  },
  {
   "cell_type": "code",
   "execution_count": 14,
   "metadata": {},
   "outputs": [],
   "source": [
    "with open(\"/data/train_coco.json\", \"w\") as f:\n",
    "    json.dump(train_coco, f)"
   ]
  },
  {
   "cell_type": "code",
   "execution_count": 15,
   "metadata": {},
   "outputs": [],
   "source": [
    "with open(\"/data/test_coco.json\", \"w\") as f:\n",
    "    json.dump(test_coco, f)"
   ]
  },
  {
   "cell_type": "code",
   "execution_count": 16,
   "metadata": {},
   "outputs": [],
   "source": [
    "with open(\"/data/train_coco.json\", \"r\") as f:\n",
    "    train_coco = json.load(f)"
   ]
  },
  {
   "cell_type": "code",
   "execution_count": 17,
   "metadata": {},
   "outputs": [
    {
     "data": {
      "text/plain": [
       "dict_keys(['images', 'annotations', 'categories'])"
      ]
     },
     "execution_count": 17,
     "metadata": {},
     "output_type": "execute_result"
    }
   ],
   "source": [
    "train_coco.keys()"
   ]
  },
  {
   "cell_type": "code",
   "execution_count": 19,
   "metadata": {},
   "outputs": [
    {
     "data": {
      "text/plain": [
       "[{'id': 1, 'name': 'person', 'supercategory': 'person'},\n",
       " {'id': 2, 'name': 'bicycle', 'supercategory': 'vehicle'},\n",
       " {'id': 3, 'name': 'car', 'supercategory': 'vehicle'},\n",
       " {'id': 4, 'name': 'motorcycle', 'supercategory': 'vehicle'},\n",
       " {'id': 5, 'name': 'airplane', 'supercategory': 'vehicle'},\n",
       " {'id': 6, 'name': 'bus', 'supercategory': 'vehicle'},\n",
       " {'id': 7, 'name': 'train', 'supercategory': 'vehicle'},\n",
       " {'id': 8, 'name': 'truck', 'supercategory': 'vehicle'},\n",
       " {'id': 9, 'name': 'boat', 'supercategory': 'vehicle'},\n",
       " {'id': 10, 'name': 'traffic light', 'supercategory': 'outdoor'},\n",
       " {'id': 11, 'name': 'fire hydrant', 'supercategory': 'outdoor'},\n",
       " {'id': 13, 'name': 'stop sign', 'supercategory': 'outdoor'},\n",
       " {'id': 14, 'name': 'parking meter', 'supercategory': 'outdoor'},\n",
       " {'id': 15, 'name': 'bench', 'supercategory': 'outdoor'},\n",
       " {'id': 16, 'name': 'bird', 'supercategory': 'animal'},\n",
       " {'id': 17, 'name': 'cat', 'supercategory': 'animal'},\n",
       " {'id': 18, 'name': 'dog', 'supercategory': 'animal'},\n",
       " {'id': 19, 'name': 'horse', 'supercategory': 'animal'},\n",
       " {'id': 20, 'name': 'sheep', 'supercategory': 'animal'},\n",
       " {'id': 21, 'name': 'cow', 'supercategory': 'animal'},\n",
       " {'id': 22, 'name': 'elephant', 'supercategory': 'animal'},\n",
       " {'id': 23, 'name': 'bear', 'supercategory': 'animal'},\n",
       " {'id': 24, 'name': 'zebra', 'supercategory': 'animal'},\n",
       " {'id': 25, 'name': 'giraffe', 'supercategory': 'animal'},\n",
       " {'id': 27, 'name': 'backpack', 'supercategory': 'accessory'},\n",
       " {'id': 28, 'name': 'umbrella', 'supercategory': 'accessory'},\n",
       " {'id': 31, 'name': 'handbag', 'supercategory': 'accessory'},\n",
       " {'id': 32, 'name': 'tie', 'supercategory': 'accessory'},\n",
       " {'id': 33, 'name': 'suitcase', 'supercategory': 'accessory'},\n",
       " {'id': 34, 'name': 'frisbee', 'supercategory': 'sports'},\n",
       " {'id': 35, 'name': 'skis', 'supercategory': 'sports'},\n",
       " {'id': 36, 'name': 'snowboard', 'supercategory': 'sports'},\n",
       " {'id': 37, 'name': 'sports ball', 'supercategory': 'sports'},\n",
       " {'id': 38, 'name': 'kite', 'supercategory': 'sports'},\n",
       " {'id': 39, 'name': 'baseball bat', 'supercategory': 'sports'},\n",
       " {'id': 40, 'name': 'baseball glove', 'supercategory': 'sports'},\n",
       " {'id': 41, 'name': 'skateboard', 'supercategory': 'sports'},\n",
       " {'id': 42, 'name': 'surfboard', 'supercategory': 'sports'},\n",
       " {'id': 43, 'name': 'tennis racket', 'supercategory': 'sports'},\n",
       " {'id': 44, 'name': 'bottle', 'supercategory': 'kitchen'},\n",
       " {'id': 46, 'name': 'wine glass', 'supercategory': 'kitchen'},\n",
       " {'id': 47, 'name': 'cup', 'supercategory': 'kitchen'},\n",
       " {'id': 48, 'name': 'fork', 'supercategory': 'kitchen'},\n",
       " {'id': 49, 'name': 'knife', 'supercategory': 'kitchen'},\n",
       " {'id': 50, 'name': 'spoon', 'supercategory': 'kitchen'},\n",
       " {'id': 51, 'name': 'bowl', 'supercategory': 'kitchen'},\n",
       " {'id': 52, 'name': 'banana', 'supercategory': 'food'},\n",
       " {'id': 53, 'name': 'apple', 'supercategory': 'food'},\n",
       " {'id': 54, 'name': 'sandwich', 'supercategory': 'food'},\n",
       " {'id': 55, 'name': 'orange', 'supercategory': 'food'},\n",
       " {'id': 56, 'name': 'broccoli', 'supercategory': 'food'},\n",
       " {'id': 57, 'name': 'carrot', 'supercategory': 'food'},\n",
       " {'id': 58, 'name': 'hot dog', 'supercategory': 'food'},\n",
       " {'id': 59, 'name': 'pizza', 'supercategory': 'food'},\n",
       " {'id': 60, 'name': 'donut', 'supercategory': 'food'},\n",
       " {'id': 61, 'name': 'cake', 'supercategory': 'food'},\n",
       " {'id': 62, 'name': 'chair', 'supercategory': 'furniture'},\n",
       " {'id': 63, 'name': 'couch', 'supercategory': 'furniture'},\n",
       " {'id': 64, 'name': 'potted plant', 'supercategory': 'furniture'},\n",
       " {'id': 65, 'name': 'bed', 'supercategory': 'furniture'},\n",
       " {'id': 67, 'name': 'dining table', 'supercategory': 'furniture'},\n",
       " {'id': 70, 'name': 'toilet', 'supercategory': 'furniture'},\n",
       " {'id': 72, 'name': 'tv', 'supercategory': 'electronic'},\n",
       " {'id': 73, 'name': 'laptop', 'supercategory': 'electronic'},\n",
       " {'id': 74, 'name': 'mouse', 'supercategory': 'electronic'},\n",
       " {'id': 75, 'name': 'remote', 'supercategory': 'electronic'},\n",
       " {'id': 76, 'name': 'keyboard', 'supercategory': 'electronic'},\n",
       " {'id': 77, 'name': 'cell phone', 'supercategory': 'electronic'},\n",
       " {'id': 78, 'name': 'microwave', 'supercategory': 'appliance'},\n",
       " {'id': 79, 'name': 'oven', 'supercategory': 'appliance'},\n",
       " {'id': 80, 'name': 'toaster', 'supercategory': 'appliance'},\n",
       " {'id': 81, 'name': 'sink', 'supercategory': 'appliance'},\n",
       " {'id': 82, 'name': 'refrigerator', 'supercategory': 'appliance'},\n",
       " {'id': 84, 'name': 'book', 'supercategory': 'indoor'},\n",
       " {'id': 85, 'name': 'clock', 'supercategory': 'indoor'},\n",
       " {'id': 86, 'name': 'vase', 'supercategory': 'indoor'},\n",
       " {'id': 87, 'name': 'scissors', 'supercategory': 'indoor'},\n",
       " {'id': 88, 'name': 'teddy bear', 'supercategory': 'indoor'},\n",
       " {'id': 89, 'name': 'hair drier', 'supercategory': 'indoor'},\n",
       " {'id': 90, 'name': 'toothbrush', 'supercategory': 'indoor'},\n",
       " {'id': 92, 'name': 'banner', 'supercategory': 'textile'},\n",
       " {'id': 93, 'name': 'blanket', 'supercategory': 'textile'},\n",
       " {'id': 94, 'name': 'branch', 'supercategory': 'plant'},\n",
       " {'id': 95, 'name': 'bridge', 'supercategory': 'building'},\n",
       " {'id': 96, 'name': 'building-other', 'supercategory': 'building'},\n",
       " {'id': 97, 'name': 'bush', 'supercategory': 'plant'},\n",
       " {'id': 98, 'name': 'cabinet', 'supercategory': 'furniture-stuff'},\n",
       " {'id': 99, 'name': 'cage', 'supercategory': 'structural'},\n",
       " {'id': 100, 'name': 'cardboard', 'supercategory': 'raw-material'},\n",
       " {'id': 101, 'name': 'carpet', 'supercategory': 'floor'},\n",
       " {'id': 102, 'name': 'ceiling-other', 'supercategory': 'ceiling'},\n",
       " {'id': 103, 'name': 'ceiling-tile', 'supercategory': 'ceiling'},\n",
       " {'id': 104, 'name': 'cloth', 'supercategory': 'textile'},\n",
       " {'id': 105, 'name': 'clothes', 'supercategory': 'textile'},\n",
       " {'id': 106, 'name': 'clouds', 'supercategory': 'sky'},\n",
       " {'id': 107, 'name': 'counter', 'supercategory': 'furniture-stuff'},\n",
       " {'id': 108, 'name': 'cupboard', 'supercategory': 'furniture-stuff'},\n",
       " {'id': 109, 'name': 'curtain', 'supercategory': 'textile'},\n",
       " {'id': 110, 'name': 'desk-stuff', 'supercategory': 'furniture-stuff'},\n",
       " {'id': 111, 'name': 'dirt', 'supercategory': 'ground'},\n",
       " {'id': 112, 'name': 'door-stuff', 'supercategory': 'furniture-stuff'},\n",
       " {'id': 113, 'name': 'fence', 'supercategory': 'structural'},\n",
       " {'id': 114, 'name': 'floor-marble', 'supercategory': 'floor'},\n",
       " {'id': 115, 'name': 'floor-other', 'supercategory': 'floor'},\n",
       " {'id': 116, 'name': 'floor-stone', 'supercategory': 'floor'},\n",
       " {'id': 117, 'name': 'floor-tile', 'supercategory': 'floor'},\n",
       " {'id': 118, 'name': 'floor-wood', 'supercategory': 'floor'},\n",
       " {'id': 119, 'name': 'flower', 'supercategory': 'plant'},\n",
       " {'id': 120, 'name': 'fog', 'supercategory': 'water'},\n",
       " {'id': 121, 'name': 'food-other', 'supercategory': 'food-stuff'},\n",
       " {'id': 122, 'name': 'fruit', 'supercategory': 'food-stuff'},\n",
       " {'id': 123, 'name': 'furniture-other', 'supercategory': 'furniture-stuff'},\n",
       " {'id': 124, 'name': 'grass', 'supercategory': 'plant'},\n",
       " {'id': 125, 'name': 'gravel', 'supercategory': 'ground'},\n",
       " {'id': 126, 'name': 'ground-other', 'supercategory': 'ground'},\n",
       " {'id': 127, 'name': 'hill', 'supercategory': 'solid'},\n",
       " {'id': 128, 'name': 'house', 'supercategory': 'building'},\n",
       " {'id': 129, 'name': 'leaves', 'supercategory': 'plant'},\n",
       " {'id': 130, 'name': 'light', 'supercategory': 'furniture-stuff'},\n",
       " {'id': 131, 'name': 'mat', 'supercategory': 'textile'},\n",
       " {'id': 132, 'name': 'metal', 'supercategory': 'raw-material'},\n",
       " {'id': 133, 'name': 'mirror-stuff', 'supercategory': 'furniture-stuff'},\n",
       " {'id': 134, 'name': 'moss', 'supercategory': 'plant'},\n",
       " {'id': 135, 'name': 'mountain', 'supercategory': 'solid'},\n",
       " {'id': 136, 'name': 'mud', 'supercategory': 'ground'},\n",
       " {'id': 137, 'name': 'napkin', 'supercategory': 'textile'},\n",
       " {'id': 138, 'name': 'net', 'supercategory': 'structural'},\n",
       " {'id': 139, 'name': 'paper', 'supercategory': 'raw-material'},\n",
       " {'id': 140, 'name': 'pavement', 'supercategory': 'ground'},\n",
       " {'id': 141, 'name': 'pillow', 'supercategory': 'textile'},\n",
       " {'id': 142, 'name': 'plant-other', 'supercategory': 'plant'},\n",
       " {'id': 143, 'name': 'plastic', 'supercategory': 'raw-material'},\n",
       " {'id': 144, 'name': 'platform', 'supercategory': 'ground'},\n",
       " {'id': 145, 'name': 'playingfield', 'supercategory': 'ground'},\n",
       " {'id': 146, 'name': 'railing', 'supercategory': 'structural'},\n",
       " {'id': 147, 'name': 'railroad', 'supercategory': 'ground'},\n",
       " {'id': 148, 'name': 'river', 'supercategory': 'water'},\n",
       " {'id': 149, 'name': 'road', 'supercategory': 'ground'},\n",
       " {'id': 150, 'name': 'rock', 'supercategory': 'solid'},\n",
       " {'id': 151, 'name': 'roof', 'supercategory': 'building'},\n",
       " {'id': 152, 'name': 'rug', 'supercategory': 'textile'},\n",
       " {'id': 153, 'name': 'salad', 'supercategory': 'food-stuff'},\n",
       " {'id': 154, 'name': 'sand', 'supercategory': 'ground'},\n",
       " {'id': 155, 'name': 'sea', 'supercategory': 'water'},\n",
       " {'id': 156, 'name': 'shelf', 'supercategory': 'furniture-stuff'},\n",
       " {'id': 157, 'name': 'sky-other', 'supercategory': 'sky'},\n",
       " {'id': 158, 'name': 'skyscraper', 'supercategory': 'building'},\n",
       " {'id': 159, 'name': 'snow', 'supercategory': 'ground'},\n",
       " {'id': 160, 'name': 'solid-other', 'supercategory': 'solid'},\n",
       " {'id': 161, 'name': 'stairs', 'supercategory': 'furniture-stuff'},\n",
       " {'id': 162, 'name': 'stone', 'supercategory': 'solid'},\n",
       " {'id': 163, 'name': 'straw', 'supercategory': 'plant'},\n",
       " {'id': 164, 'name': 'structural-other', 'supercategory': 'structural'},\n",
       " {'id': 165, 'name': 'table', 'supercategory': 'furniture-stuff'},\n",
       " {'id': 166, 'name': 'tent', 'supercategory': 'building'},\n",
       " {'id': 167, 'name': 'textile-other', 'supercategory': 'textile'},\n",
       " {'id': 168, 'name': 'towel', 'supercategory': 'textile'},\n",
       " {'id': 169, 'name': 'tree', 'supercategory': 'plant'},\n",
       " {'id': 170, 'name': 'vegetable', 'supercategory': 'food-stuff'},\n",
       " {'id': 171, 'name': 'wall-brick', 'supercategory': 'wall'},\n",
       " {'id': 172, 'name': 'wall-concrete', 'supercategory': 'wall'},\n",
       " {'id': 173, 'name': 'wall-other', 'supercategory': 'wall'},\n",
       " {'id': 174, 'name': 'wall-panel', 'supercategory': 'wall'},\n",
       " {'id': 175, 'name': 'wall-stone', 'supercategory': 'wall'},\n",
       " {'id': 176, 'name': 'wall-tile', 'supercategory': 'wall'},\n",
       " {'id': 177, 'name': 'wall-wood', 'supercategory': 'wall'},\n",
       " {'id': 178, 'name': 'water-other', 'supercategory': 'water'},\n",
       " {'id': 179, 'name': 'waterdrops', 'supercategory': 'water'},\n",
       " {'id': 180, 'name': 'window-blind', 'supercategory': 'window'},\n",
       " {'id': 181, 'name': 'window-other', 'supercategory': 'window'},\n",
       " {'id': 182, 'name': 'wood', 'supercategory': 'solid'}]"
      ]
     },
     "execution_count": 19,
     "metadata": {},
     "output_type": "execute_result"
    }
   ],
   "source": [
    "train_coco[\"categories\"]"
   ]
  },
  {
   "cell_type": "code",
   "execution_count": null,
   "metadata": {},
   "outputs": [],
   "source": []
  }
 ],
 "metadata": {
  "kernelspec": {
   "display_name": "Python 3 (ipykernel)",
   "language": "python",
   "name": "python3"
  },
  "language_info": {
   "codemirror_mode": {
    "name": "ipython",
    "version": 3
   },
   "file_extension": ".py",
   "mimetype": "text/x-python",
   "name": "python",
   "nbconvert_exporter": "python",
   "pygments_lexer": "ipython3",
   "version": "3.10.14"
  }
 },
 "nbformat": 4,
 "nbformat_minor": 4
}
